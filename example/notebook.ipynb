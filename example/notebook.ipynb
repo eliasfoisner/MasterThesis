{
 "cells": [
  {
   "cell_type": "code",
   "execution_count": 2,
   "id": "c5e5fcc4",
   "metadata": {},
   "outputs": [],
   "source": [
    "import sys\n",
    "sys.path.append('..')\n",
    "\n",
    "import package as sp\n",
    "import plotly.graph_objects as go\n",
    "from plotly_resampler import FigureResampler"
   ]
  },
  {
   "cell_type": "markdown",
   "id": "4ffc0a42",
   "metadata": {},
   "source": [
    "First, we want to import our data by using the ```import_folder()``` utility function, which stores a list of all .csv file paths which are found in the specified directory. Additionally, a numbered list of all found file names is printed."
   ]
  },
  {
   "cell_type": "code",
   "execution_count": 3,
   "id": "f9149348",
   "metadata": {},
   "outputs": [
    {
     "name": "stdout",
     "output_type": "stream",
     "text": [
      "Following files were found in folder 'data_nanomodul':\n",
      "\n",
      "0 CeO156 sn200 ch250 neb1170 Ox1.5 AFT200.csv\n",
      "1 CeO156 sn200 ch250 neb1170 Ox1.5 AFT100.csv\n",
      "2 CeO156 sn200 ch250 neb1170 Ox1.5 AFT50.csv\n",
      "3 CeO156 sn200 ch250 neb1170 Ox1.5 AFT10.csv\n",
      "4 CeO156 sn200 ch250 neb1170 Ox1.5 AFT0.csv\n",
      "5 CeO156 sn200 ch250 neb1170 Ox1.5 AFT-100.csv\n"
     ]
    }
   ],
   "source": [
    "dir = \"data_nanomodul\"\n",
    "files = sp.utils.import_folder(dir)"
   ]
  },
  {
   "cell_type": "markdown",
   "id": "c081e82f",
   "metadata": {},
   "source": [
    "After that, we can either continue with all files, or specify a selection by entering the indices in the list comprehension below."
   ]
  },
  {
   "cell_type": "code",
   "execution_count": 5,
   "id": "d3a432dd",
   "metadata": {},
   "outputs": [
    {
     "data": {
      "text/html": [
       "\n",
       "        <iframe\n",
       "            width=\"100%\"\n",
       "            height=\"650\"\n",
       "            src=\"http://127.0.0.1:8050/\"\n",
       "            frameborder=\"0\"\n",
       "            allowfullscreen\n",
       "            \n",
       "        ></iframe>\n",
       "        "
      ],
      "text/plain": [
       "<IPython.lib.display.IFrame at 0x14fe138c0>"
      ]
     },
     "metadata": {},
     "output_type": "display_data"
    }
   ],
   "source": [
    "selection = [files[i] for i in [2, 3]]\n",
    "\n",
    "layout = go.Layout(legend=dict(orientation='v', yanchor='top', xanchor='center', y=-0.1, x=0.5))\n",
    "fig = go.Figure(layout=layout)\n",
    "fig_resampled = FigureResampler(fig)\n",
    "\n",
    "measurement_dict = dict()\n",
    "for f in selection:\n",
    "    l = f.name\n",
    "    measurement_dict[l] = sp.measurement.SyngistixMeasurement(f)\n",
    "    isotopes = measurement_dict[l].measured_isotopes.tolist()\n",
    "    for i in isotopes:\n",
    "        measurement_dict[l].timescale(i, cycle_time=50e-6)\n",
    "        measurement_dict[l].savgol(i)\n",
    "        measurement_dict[l].peak_finding(i, threshold=20, distance=50e-3)\n",
    "        measurement_dict[l].peak_width(i, criterion=10)\n",
    "        measurement_dict[l].peak_background(i)\n",
    "        measurement_dict[l].peak_area(i, resize=4)\n",
    "        measurement_dict[l].plot(i, fig=fig_resampled, savgol=False, integration=False, peaks=True, background=False, width=False)\n",
    "\n",
    "fig_resampled.show_dash()"
   ]
  },
  {
   "cell_type": "code",
   "execution_count": null,
   "id": "ebfad3d8",
   "metadata": {},
   "outputs": [],
   "source": []
  }
 ],
 "metadata": {
  "kernelspec": {
   "display_name": ".venv",
   "language": "python",
   "name": "python3"
  },
  "language_info": {
   "codemirror_mode": {
    "name": "ipython",
    "version": 3
   },
   "file_extension": ".py",
   "mimetype": "text/x-python",
   "name": "python",
   "nbconvert_exporter": "python",
   "pygments_lexer": "ipython3",
   "version": "3.13.3"
  }
 },
 "nbformat": 4,
 "nbformat_minor": 5
}
